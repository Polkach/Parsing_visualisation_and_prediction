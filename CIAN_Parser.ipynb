{
 "cells": [
  {
   "cell_type": "code",
   "execution_count": null,
   "metadata": {
    "collapsed": true
   },
   "outputs": [],
   "source": [
    "import requests\n",
    "import re\n",
    "from bs4 import BeautifulSoup\n",
    "import pandas as pd\n",
    "import time\n",
    "import sys\n",
    "import numpy as np\n",
    "from math import pi, cos"
   ]
  },
  {
   "cell_type": "markdown",
   "metadata": {},
   "source": [
    "Функция, убирающая html синтаксис."
   ]
  },
  {
   "cell_type": "code",
   "execution_count": null,
   "metadata": {
    "collapsed": true
   },
   "outputs": [],
   "source": [
    "def html_stripper(text):\n",
    "    return re.sub('<[^<]+?>', '', str(text))"
   ]
  },
  {
   "cell_type": "markdown",
   "metadata": {},
   "source": [
    "getLinks\n",
    "Функция, на вход которой будут подаваться округа Москвы, а она будет возвращать номера объявлений о продаже квартир из этого округа."
   ]
  },
  {
   "cell_type": "code",
   "execution_count": null,
   "metadata": {
    "collapsed": false
   },
   "outputs": [],
   "source": [
    "def getLinks(main_url): # ссылка со страницами\n",
    "    links = []\n",
    "    for page in range(30):\n",
    "        flats_page = requests.get(main_url.format(page))\n",
    "        flats_page = flats_page.content\n",
    "        flats_page = BeautifulSoup(flats_page, 'lxml')\n",
    "        flats_urls = flats_page.findAll('a', attrs = {'class':\"serp-item__card-link link\"})\n",
    "        flats_urls = re.split('http://www.cian.ru/sale/flat/|/\"',str(flats_urls))\n",
    "        for link in flats_urls:\n",
    "            if link.isdigit():\n",
    "                links.append(link)\n",
    "    return links;"
   ]
  },
  {
   "cell_type": "markdown",
   "metadata": {},
   "source": [
    "getRoom\n",
    "Функция, возвращающая число квартир. Возвращает 0, если квартира - студия, и 9, если квартира многокомнатная."
   ]
  },
  {
   "cell_type": "code",
   "execution_count": null,
   "metadata": {
    "collapsed": false
   },
   "outputs": [],
   "source": [
    "def getRoom(flat_page):\n",
    "    rooms = flat_page.find('div', attrs={'class':'object_descr_title'})\n",
    "    rooms = html_stripper(rooms)\n",
    "    room_number = ''\n",
    "    for i in re.split('-|\\n', rooms):\n",
    "        if 'многокомн' in i: # дополнительно проверили на многокомнатность\n",
    "            return 9\n",
    "        if 'комн' in i:\n",
    "            break\n",
    "        else:\n",
    "            room_number += i\n",
    "    if room_number.find('студия')!=-1: # и на студию\n",
    "        room_number = 0\n",
    "    else:\n",
    "        room_number = int(\"\".join(room_number.split()))\n",
    "    return room_number"
   ]
  },
  {
   "cell_type": "markdown",
   "metadata": {},
   "source": [
    "getCoords\n",
    "Функция, возвращающая долготу и широту."
   ]
  },
  {
   "cell_type": "code",
   "execution_count": null,
   "metadata": {
    "collapsed": true
   },
   "outputs": [],
   "source": [
    "def getCoords(flat_page):\n",
    "    coords = flat_page.find('div', attrs={'class':'map_info_button_extend'}).contents[1]\n",
    "    coords = re.split('&amp|center=|%2C', str(coords))\n",
    "    coords_list = []\n",
    "    for item in coords:\n",
    "        if item[0].isdigit():\n",
    "            coords_list.append(item)\n",
    "    lat = float(coords_list[0])\n",
    "    lon = float(coords_list[1])\n",
    "    return lat, lon"
   ]
  },
  {
   "cell_type": "markdown",
   "metadata": {},
   "source": [
    "getDist\n",
    "Функция, возвращающая долготу и широту, а также расстояние до центра Москвы в километрах. Использует сложнейшие формулы математического анализа."
   ]
  },
  {
   "cell_type": "code",
   "execution_count": null,
   "metadata": {
    "collapsed": true
   },
   "outputs": [],
   "source": [
    "def getDist(flat_page):\n",
    "    shirota, dolgota = getCoords(flat_page)\n",
    "    y = (2*pi*6371)/360*(shirota-55.75370903771494) # расстояние в километрах по широте\n",
    "    x = (2*pi*6371*cos(shirota*pi/180))/360*(dolgota-37.61981338262558) # расстояние в километрах по долготе\n",
    "    dist = (x*x+y*y)**0.5 # формула Пифагора для полученных длин\n",
    "    return dolgota, shirota, dist"
   ]
  },
  {
   "cell_type": "markdown",
   "metadata": {},
   "source": [
    "getMetro\n",
    "Функция, возврщающая время до метро в минутах и 1, если время указано для пешей прогулки, 0 иначе. Nan и 1 если время до метро не указано."
   ]
  },
  {
   "cell_type": "code",
   "execution_count": null,
   "metadata": {
    "collapsed": false
   },
   "outputs": [],
   "source": [
    "def getMetro(flat_page):\n",
    "    if str(flat_page).find('<span class=\"object_item_metro_comment\">')==-1: # у некоторых квартир время до метро не указано\n",
    "        return np.nan, 1\n",
    "    metro = flat_page.find('span',attrs={'class':'object_item_metro_comment'})\n",
    "    metro = re.split('\\n', str(metro))\n",
    "    time = int(metro[1].replace(' ','')) # берем время\n",
    "    Walk = 0\n",
    "    for i in metro:\n",
    "        if i.replace(' ','')=='пешком': # и ищем желанное слово \"пешком\"\n",
    "            Walk = 1\n",
    "    return time, Walk"
   ]
  },
  {
   "cell_type": "markdown",
   "metadata": {},
   "source": [
    "getPrice\n",
    "Функция, возвращающая цену квартиры в рублях."
   ]
  },
  {
   "cell_type": "code",
   "execution_count": null,
   "metadata": {
    "collapsed": true
   },
   "outputs": [],
   "source": [
    "def getPrice(flat_page):\n",
    "    price = flat_page.find('div', attrs={'class':'object_descr_price'})\n",
    "    price = re.split('<div>|руб|\\W', str(price))\n",
    "    price = \"\".join([i for i in price if i.isdigit()][-3:])\n",
    "    return int(price)"
   ]
  },
  {
   "cell_type": "markdown",
   "metadata": {},
   "source": [
    "getTable\n",
    "Фунция, обрабатывающая стандартную табличку, описывающую квартиру. Возвращает (в порядке вывода):\n",
    "1, если дом кирпичный/монолит/жб. 0 иначе.\n",
    "1, если квартира в новостройке. 0 иначе.\n",
    "Этаж квартиры и количество этажей всего. Nan, если не указано.\n",
    "Общую площадь, жилую площадь и площадь кухни. Nan, если не указано.\n",
    "1 при наличии балкона или лоджии, 0 иначе.\n",
    "1 при наличии лифта, 0 иначе.\n",
    "1 при наличии телефона в квартире, 0 иначе.\n",
    "Словесное описание вида из окна."
   ]
  },
  {
   "cell_type": "code",
   "execution_count": null,
   "metadata": {
    "collapsed": false
   },
   "outputs": [],
   "source": [
    "def getTable(flat_page):\n",
    "    table = flat_page.find('table', attrs={'class':'object_descr_props flat sale'})\n",
    "    s = html_stripper(table).split('\\n')\n",
    "    a = []\n",
    "    for i in s:\n",
    "        if i!='':\n",
    "            a.append(i) # после этих операций у нас в (а) будут лежать слова в порядке их следования\n",
    "        \n",
    "    Phone = 0 # потому что графа может отсутствовать в табличке совсем\n",
    "    for i in range(len(a)):\n",
    "        if a[i]=='Тип дома:':\n",
    "            j=i+1\n",
    "            Brick = 0\n",
    "            while a[j]!='Тип продажи:': # перебираем все слова до следующей строки таблички\n",
    "                c = a[j].replace(' ','').replace(',','').replace('.','')\n",
    "                if c=='вторичка':\n",
    "                    New = 0\n",
    "                if c=='новостройка':\n",
    "                    New = 1\n",
    "                if c=='панельный' or c=='монолитно-кирпичный' or c=='монолитный' or c=='блочный' or c=='кирпичный' or c=='сталинский':\n",
    "                    Brick = 1 # сталинский - это же стиль вообще, намешали всего. В общем, брик=1 - дом \"крепкий\"\n",
    "                j=j+1\n",
    "\n",
    "        if a[i]=='Этаж:':\n",
    "            if a[i+1]=='—' or a[i+1]=='–': # на случай, если этажи не указаны\n",
    "                Floor = np.nan\n",
    "                Nfloors = np.nan\n",
    "            else:\n",
    "                help_s = a[i+1].replace(' ','').split('\\xa0')\n",
    "                if len(help_s)==2 and help_s[1]=='': # может быть не указана этажность дома\n",
    "                    Floor = int(help_s[0])\n",
    "                    Nfloors = np.nan\n",
    "                elif len(help_s)==3 and help_s[1]=='/':\n",
    "                    Floor = int(help_s[0])\n",
    "                    Nfloors = int(help_s[2])\n",
    "                else:\n",
    "                    Floor = np.nan\n",
    "                    Nfloors = np.nan\n",
    "\n",
    "        if a[i]=='Общая площадь:':\n",
    "            if a[i+1]=='—' or a[i+1]=='–': # это разные \"тире\" на самом деле\n",
    "                AllArea = np.nan\n",
    "            else:\n",
    "                AllArea = float(a[i+1][:(a[i+1].find('x')-2)].replace(',','.'))\n",
    "\n",
    "        if a[i]=='Жилая площадь:':\n",
    "            if a[i+1]=='—' or a[i+1]=='–':\n",
    "                LivingArea = np.nan\n",
    "            else:\n",
    "                LivingArea = float(a[i+1][:(a[i+1].find('x')-2)].replace(',','.'))\n",
    "\n",
    "        if a[i]=='Площадь кухни:':\n",
    "            if a[i+1]=='—' or a[i+1]=='–':\n",
    "                KitchenArea = np.nan\n",
    "            else:\n",
    "                KitchenArea = float(a[i+1][:(a[i+1].find('x')-2)].replace(',','.'))\n",
    "\n",
    "        if a[i]=='Балкон:':\n",
    "            if a[i+1]=='—' or a[i+1]=='–' or a[i+1]=='нет':\n",
    "                Balcony = 0\n",
    "            else:\n",
    "                Balcony = 1\n",
    "\n",
    "        if a[i]=='Лифт:':\n",
    "            if a[i+1]=='—' or a[i+1]=='–' or a[i+1]=='нет':\n",
    "                Elevator = 0\n",
    "            else:\n",
    "                Elevator = 1\n",
    "\n",
    "        if a[i]=='Телефон:':\n",
    "            if a[i+1]=='—' or a[i+1]=='–' or a[i+1]=='нет':\n",
    "                Phone = 0\n",
    "            else:\n",
    "                Phone = 1\n",
    "                \n",
    "        if a[i]=='Вид из окна:': # вид из окна важен, я считаю\n",
    "            View = a[i+1]\n",
    "\n",
    "    return Brick, New, Floor, Nfloors, AllArea, LivingArea, KitchenArea, Balcony, Elevator, Phone, View"
   ]
  },
  {
   "cell_type": "markdown",
   "metadata": {},
   "source": [
    "Включаем в нашу базу все округа, за исключением Зеленоградского, Новомосковского и Троицкого."
   ]
  },
  {
   "cell_type": "code",
   "execution_count": null,
   "metadata": {
    "collapsed": true
   },
   "outputs": [],
   "source": [
    "okruga = ['http://www.cian.ru/cat.php?deal_type=sale&district%5B0%5D=13&district%5B1%5D=14&district%5B2%5D=15&district%5B3%5D=16&district%5B4%5D=17&district%5B5%5D=18&district%5B6%5D=19&district%5B7%5D=20&district%5B8%5D=21&district%5B9%5D=22&engine_version=2&offer_type=flat&p={}&room1=1&room2=1&room3=1&room4=1&room5=1&room6=1&room9=1'\n",
    ",'http://www.cian.ru/cat.php?deal_type=sale&district%5B0%5D=23&district%5B1%5D=24&district%5B10%5D=33&district%5B11%5D=34&district%5B12%5D=35&district%5B13%5D=36&district%5B14%5D=37&district%5B15%5D=38&district%5B2%5D=25&district%5B3%5D=26&district%5B4%5D=27&district%5B5%5D=28&district%5B6%5D=29&district%5B7%5D=30&district%5B8%5D=31&district%5B9%5D=32&engine_version=2&offer_type=flat&p={}&room1=1&room2=1&room3=1&room4=1&room5=1&room6=1&room9=1'\n",
    ",'http://www.cian.ru/cat.php?deal_type=sale&district%5B0%5D=39&district%5B1%5D=40&district%5B10%5D=49&district%5B11%5D=50&district%5B12%5D=51&district%5B13%5D=52&district%5B14%5D=53&district%5B15%5D=54&district%5B16%5D=55&district%5B2%5D=41&district%5B3%5D=42&district%5B4%5D=43&district%5B5%5D=44&district%5B6%5D=45&district%5B7%5D=46&district%5B8%5D=47&district%5B9%5D=48&engine_version=2&offer_type=flat&p={}&room1=1&room2=1&room3=1&room4=1&room5=1&room6=1&room9=1'\n",
    ",'http://www.cian.ru/cat.php?deal_type=sale&district%5B0%5D=56&district%5B1%5D=57&district%5B10%5D=66&district%5B11%5D=67&district%5B12%5D=68&district%5B13%5D=69&district%5B14%5D=70&district%5B15%5D=71&district%5B2%5D=58&district%5B3%5D=59&district%5B4%5D=60&district%5B5%5D=61&district%5B6%5D=62&district%5B7%5D=63&district%5B8%5D=64&district%5B9%5D=65&engine_version=2&offer_type=flat&p={}&room1=1&room2=1&room3=1&room4=1&room5=1&room6=1&room9=1'\n",
    ",'http://www.cian.ru/cat.php?deal_type=sale&district%5B0%5D=72&district%5B1%5D=73&district%5B10%5D=82&district%5B11%5D=83&district%5B2%5D=74&district%5B3%5D=75&district%5B4%5D=76&district%5B5%5D=77&district%5B6%5D=78&district%5B7%5D=79&district%5B8%5D=80&district%5B9%5D=81&engine_version=2&offer_type=flat&p={}&room1=1&room2=1&room3=1&room4=1&room5=1&room6=1&room9=1'\n",
    ",'http://www.cian.ru/cat.php?deal_type=sale&district%5B0%5D=84&district%5B1%5D=85&district%5B10%5D=94&district%5B11%5D=95&district%5B12%5D=96&district%5B13%5D=97&district%5B14%5D=98&district%5B15%5D=99&district%5B2%5D=86&district%5B3%5D=87&district%5B4%5D=88&district%5B5%5D=89&district%5B6%5D=90&district%5B7%5D=91&district%5B8%5D=92&district%5B9%5D=93&engine_version=2&offer_type=flat&p={}&room1=1&room2=1&room3=1&room4=1&room5=1&room6=1&room9=1'\n",
    ",'http://www.cian.ru/cat.php?deal_type=sale&district%5B0%5D=100&district%5B1%5D=101&district%5B10%5D=110&district%5B11%5D=111&district%5B2%5D=102&district%5B3%5D=103&district%5B4%5D=104&district%5B5%5D=105&district%5B6%5D=106&district%5B7%5D=107&district%5B8%5D=108&district%5B9%5D=109&engine_version=2&offer_type=flat&p={}&room1=1&room2=1&room3=1&room4=1&room5=1&room6=1&room9=1'\n",
    ",'http://www.cian.ru/cat.php?deal_type=sale&district%5B0%5D=112&district%5B1%5D=113&district%5B10%5D=122&district%5B11%5D=123&district%5B12%5D=124&district%5B13%5D=348&district%5B14%5D=349&district%5B15%5D=350&district%5B2%5D=114&district%5B3%5D=115&district%5B4%5D=116&district%5B5%5D=117&district%5B6%5D=118&district%5B7%5D=119&district%5B8%5D=120&district%5B9%5D=121&engine_version=2&offer_type=flat&p={}&room1=1&room2=1&room3=1&room4=1&room5=1&room6=1&room9=1'\n",
    ",'http://www.cian.ru/cat.php?deal_type=sale&district%5B0%5D=125&district%5B1%5D=126&district%5B2%5D=127&district%5B3%5D=128&district%5B4%5D=129&district%5B5%5D=130&district%5B6%5D=131&district%5B7%5D=132&engine_version=2&offer_type=flat&p={}&room1=1&room2=1&room3=1&room4=1&room5=1&room6=1&room9=1']"
   ]
  },
  {
   "cell_type": "code",
   "execution_count": null,
   "metadata": {
    "collapsed": true
   },
   "outputs": [],
   "source": [
    "data = pd.DataFrame(columns=['N', 'Okrug', 'Rooms', 'Price', 'Totsp', 'Livesp', 'Kitsp','Dolgota',\n",
    "'Shirota','Dist','Metrdist','Walk','Brick','Tel','Bal','Floor','Nfloors','New','View','Elevator'])\n",
    "\n",
    "okr = -1\n",
    "\n",
    "for i in okruga:\n",
    "    okr = okr+1 # создаем категориальный признак для округа\n",
    "    links = getLinks(i) # считываем все линки для данного округа\n",
    "    print('Got links from %d'%okr)\n",
    "    for j in range(len(links)):\n",
    "        flat_url = 'http://www.cian.ru/sale/flat/' + str(links[j]) + '/'\n",
    "        flat_page = requests.get(flat_url)\n",
    "        flat_page = flat_page.content\n",
    "        flat_page = BeautifulSoup(flat_page, 'lxml')\n",
    "         # ищем наши признаки\n",
    "        N = links[j]\n",
    "        Rooms = getRoom(flat_page)\n",
    "        Price = getPrice(flat_page)\n",
    "        Dolgota, Shirota, Dist = getDist(flat_page)\n",
    "        Metrdist, Walk = getMetro(flat_page)\n",
    "        Brick, New, Floor, Nfloors, Totsp, Livesp, Kitsp, Bal, Elevator, Tel, View = getTable(flat_page)\n",
    "         # добавляем их в базу\n",
    "        to_append = {'N':N, 'Okrug':okr, 'Rooms':Rooms, 'Price':Price, 'Totsp':Totsp, 'Livesp':Livesp,\n",
    "                        'Kitsp':Kitsp,'Dolgota':Dolgota,'Shirota':Shirota,'Dist':Dist,\n",
    "                        'Metrdist':Metrdist,'Walk':Walk,'Brick':Brick,'Tel':Tel,'Bal':Bal,\n",
    "                        'Floor':Floor,'Nfloors':Nfloors,'New':New,'View':View,'Elevator':Elevator}\n",
    "        data = data.append(to_append, ignore_index=True)\n",
    "        if j%10==0:\n",
    "            print('Done: %d from %d'%(j,okr)) # отслеживаем работу"
   ]
  },
  {
   "cell_type": "code",
   "execution_count": null,
   "metadata": {
    "collapsed": false
   },
   "outputs": [],
   "source": [
    "CIAN = data.drop_duplicates(['N']) # на сиане все устроено как-то так, что попадаются дубликаты. Избавляемся от них."
   ]
  },
  {
   "cell_type": "code",
   "execution_count": null,
   "metadata": {
    "collapsed": false
   },
   "outputs": [],
   "source": [
    "CIAN.to_csv('cian.csv',index=False) # сохраняем добытую дату"
   ]
  }
 ],
 "metadata": {
  "anaconda-cloud": {},
  "kernelspec": {
   "display_name": "Python [conda root]",
   "language": "python",
   "name": "conda-root-py"
  },
  "language_info": {
   "codemirror_mode": {
    "name": "ipython",
    "version": 3
   },
   "file_extension": ".py",
   "mimetype": "text/x-python",
   "name": "python",
   "nbconvert_exporter": "python",
   "pygments_lexer": "ipython3",
   "version": "3.5.2"
  }
 },
 "nbformat": 4,
 "nbformat_minor": 1
}
